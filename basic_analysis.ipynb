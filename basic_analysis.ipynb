{
 "nbformat": 4,
 "nbformat_minor": 2,
 "metadata": {
  "language_info": {
   "name": "python",
   "codemirror_mode": {
    "name": "ipython",
    "version": 3
   },
   "version": "3.6.5-final"
  },
  "orig_nbformat": 2,
  "file_extension": ".py",
  "mimetype": "text/x-python",
  "name": "python",
  "npconvert_exporter": "python",
  "pygments_lexer": "ipython3",
  "version": 3,
  "kernelspec": {
   "name": "python37032bitcrcaptionspipenv4594bcb408474463bb60c3c64807b85f",
   "display_name": "Python 3.7.0 32-bit ('CRCaptions': pipenv)"
  }
 },
 "cells": [
  {
   "cell_type": "code",
   "execution_count": 29,
   "metadata": {},
   "outputs": [],
   "source": [
    "import pandas as pd\n",
    "from os import listdir"
   ]
  },
  {
   "cell_type": "code",
   "execution_count": 30,
   "metadata": {},
   "outputs": [],
   "source": [
    "# App constants\n",
    "ASHLEY = 'ASHLEY:'\n",
    "LAURA = 'LAURA:'\n",
    "LIAM = 'LIAM:'\n",
    "MARISHA = 'MARISHA:'\n",
    "MATT = 'MATT:'\n",
    "SAM = 'SAM:'\n",
    "TALIESIN = 'TALIESIN:'\n",
    "TRAVIS = 'TRAVIS:'"
   ]
  },
  {
   "cell_type": "markdown",
   "metadata": {},
   "source": [
    "# What I want to find out\n",
    "\n",
    "- Who spoke most/least?\n",
    "- Who has largest vocabulary\n",
    "- Who spoke the longest/shortest?\n",
    "- Who spoke the fastest/slowest?\n",
    "- Did people's speaking habbits change over time?\n",
    "    - Did Fjord changing his accent make him speak more/less, faster/slower?\n",
    "- Who went the longest without speaking? (Excluding absentees)\n",
    "- Longest sentences?\n",
    "- Compare and contrast Season 1 and Season 2\n",
    "\n",
    "## Todo\n",
    "\n",
    "- Remove words in parenthesis\n",
    "- Remove quote marks, especially for Matt\n",
    "\n",
    "## Other Notes\n",
    "\n",
    "- [Starting in Season 2 Episode 54, Critical Role transitioned to a professional transcription service](https://critrole.com/cr-transcript-closed-captions-update/)"
   ]
  },
  {
   "cell_type": "code",
   "execution_count": 31,
   "metadata": {},
   "outputs": [],
   "source": [
    "data_path = './data/'\n",
    "rows = []\n",
    "for file_name in listdir('./data'):\n",
    "    episode_num = file_name.split('.')[0]\n",
    "    with open(data_path + file_name) as f:\n",
    "        row = {}\n",
    "        for line in f:\n",
    "\n",
    "            # Detect just the number\n",
    "            if line.rstrip('\\n').isnumeric():\n",
    "                sanitized_line = line.replace('\\n', '')\n",
    "                row['index'] = f'{episode_num}x{sanitized_line}'\n",
    "            # Detect the timestamp\n",
    "            elif line.find('-->') != -1:\n",
    "                row['timestamp'] = line.rstrip('\\n')\n",
    "            # Detect the next section\n",
    "            elif line == '\\n':\n",
    "                rows.append(row)\n",
    "                row = {}\n",
    "            # Everything else is spoken text\n",
    "            else:\n",
    "                if 'text' not in row:\n",
    "                    row['text'] = line\n",
    "                else:\n",
    "                    row['text'] += ' ' + line\n",
    "    break"
   ]
  },
  {
   "cell_type": "code",
   "execution_count": 44,
   "metadata": {},
   "outputs": [
    {
     "name": "stdout",
     "output_type": "stream",
     "text": "y snaps and opens and it snaps back into place the torso locking  back in The second strike does how much damage TALIESIN: Four points of damage MATT: Yeah The second one hits again and you  watch as the torso spins off It looks like only the spinal column is holding it in place but it's  managing to maintain its structure as it (snarls) That ends your turn TALIESIN: Someone anyone Yep MATT: All right ending Mollymauk's turn that  brings us to Beau LAURA: Beau you got this MARISHA: In response to him I say I thought you  said you didn't let in the sick TALIESIN: Just kill it MARISHA: I come up and I want to do a flying  Superman (impact) MATT: Wham Go for it MARISHA: First one Okay 16 MATT: That'll hit Damage MARISHA: I had my staff-- oh I had my staff but  I said-- LIAM: You said Superman punch man MARISHA: It's fine it's fine Six damage MATT: Six points of damage Natural 20 You watch  as you sock it in the face and the jaw breaks and then snaps back into place As you land pulling  it back you can see some of the teeth are actually stuck in your fist as you pull back  they've broken off into your knuckles MARISHA: I go oh come on I'm going to use my  other ki point to do flurry of blows again and I'm going to try and punch him in the bridge with  the remainder of his teeth MATT: Her teeth technically this is the woman  that was killed originally MARISHA: Oh I'll be like you were so pretty  too MATT: Go for it Two more strikes MARISHA: 19 and 18 Natural And then okay LAURA: That's a really pretty dice MARISHA: Eight 12 13 damage MATT: Natural one no So the second punch you  swing wide and hit the side of the head and the neck snaps and it's now stuck in a sideways position  As it turns the jaw it pulls back one of its weirdly swollen clawed hands ready to go for that  open wound in your gut and as it does how do you want to do this (cheering) TRAVIS: First one SAM: First blood MARISHA: I'll do the uppercut with the other one  and the one that has its teeth in it I want to go right between the bridge of the nose and get the  teeth right in the eyes and break the nose bridge into the brain You know that thing Yeah MATT: And as you do that you slam into its face  You watch as the skull caves in the teeth piercing both of the red bulging eyes And with  this horrible sucking sighing sound it falls onto its back no longer moving the shadows  released MARISHA: I grab my gash and fucked-up ribs and  immediately turn over me Can I do a perception check or an insight check on any of the  ringleaders On any of what was going on The ringleader or the jester MATT: That was your turn unfortunately That's  your turn At this point the current threats are down and the crowd is screaming and rushing The  two members of the Crown's Guard are rushed to the front weapons ready and they see both of these  creatures bloodied and ruined across the base of this In the midst of the chaos one of them  points and goes \"You you Stay where you are\" And you watch as the rest of the crowd slowly  pushes through you see as Gustav manages to make his way in \"Dear god what's  happened here\" Looks over toward Bo the Breaker the half-orc who's now joined the rest of you  \"Sir I don't know how he got in here\" And everyone looks around back at you Bo looks at  you Gustav looks to you Molly \"What happened\" TALIESIN: One of them turned I don't know what  happened LAURA: There was a sick guy There was an old sick  guy and he turned into a zombie And I run over and I cast Cure Wounds on Beau MARISHA: Oh thank you man I'm really down LAURA: Are you sick too Did you get hurt Hold on  two seconds I'm going to cure her and then I'll cure you too TRAVIS: Yasha have you ever seen anything like  this happen before ASHLEY: No Never LAURA: Seven points that's all I could cure MARISHA: That's amazing That's great TALIESIN: I'm going to drop my sword LAURA: Oh that's better for you ten for you MATT: Okay At this point the two Crown's Guard  that are there are trying desperately to maintain control You can see they're visibly shaken and  they glance at each other like they're a little out of their depths at the moment \"Stay where you  are Don't go anywhere\" TALIESIN: Oh wherever will I go MATT: And he turns to the one who's in the front  looks to the other one who just made his way through and goes \"Sivelmen find someone Bring  the rest of the guard Please\" \"Right now sir\" And he pushes his way towards the back as the rest  of the crowd runs out Now everyone in the crowd has mostly pushed out of the tent the last few  dregs pushing through Children crying people of Trostenwald just exiting out the flaps as they  close and you're all standing there weapons in your hands wondering what to do TRAVIS: What are the corpses doing now that  they've fallen MATT: They're both unmoving ruined torn apart LAURA: Can I search the corpse of the woman MATT: You can As you go to move to it both of  your forms merge The Crown's Guard goes like \"Don't move\" LAURA: Which one MATT: \"Both Uh\" He looks genuinely confused LAURA: When I'm going \"which one\" I make my  second form just dart forward and start searching the body MATT: Okay It mimics searching a body It's not  actually you Begins rifling imaginary things out of the pockets LAURA: Look at all the stuff that that one's  finding over there (laughter) LAURA: Can he turn and look and I try to search  the other guy MATT: Make a deception check to try and deceive  him to glance over LAURA: Not bad 19 MATT: (laughs) He goes \"What over there\" Looks  over as you jump over quickly and begin searching through it and you guys watch her do this and  there's a clear line of sight As soon as he turns back he's going to notice her rifling through the  other corpse ASHLEY: Is Gustav still in here MATT: Gustav is now walking up and he's hands up  in the air \"I'm terribly sorry I-- this has \"never happened I don't know what happened What  happened\" TALIESIN: We've never seen anything like it  before He just-- he gripped his heart and fell over and turned into that thing ASHLEY: It was when Toya started singing MARISHA: Yeah what's with the dwarven girl  Why-- TALIESIN: Nothing like this MATT: \"She's been singing with us for over two  years now\" MARISHA: How'd she come to you She's a pretty  young girl MATT: \"She had no family and she was singing in  the street for change There was an opportunity \"We seized it We gave her a family she didn't  have\" TRAVIS: Put your hands down MATT: The Crown's Guard goes like (grunts) \"It's  fine just don't move\" LAURA: Did I find anything MATT: Make an investigation check SAM: She uses a different dice for everything  Travis LAURA: Shut up SAM: Is that what I'm dealing with now TRAVIS: You're not even ready LAURA: 14 MATT: You manage to rifle through the old man's  body through the stringy bits of gore and you do find three pieces of silver that are just coated  in blood A few moments pass The rest of the people are gone and it's just this awkward quiet  and at this point you watch as Ornna the fire fairy who had previously performed walks in and  is like \"I'm sorry What has happened here\" LAURA: Your little dwarf girl was singing and she  turns people into zombies TALIESIN: I feel that that was entirely  coincidental I'm really not sure that the two things were related Something was wrong with this  man MARISHA: See it's interesting because I would  say the opposite I would say it wasn't that coincidental because-- LIAM: I would agree it seemed to happen with  this-- TALIESIN: We've seen her sing dozens hundreds of  times Nothing like this has ever happened I've seen people sit in the front row hundreds of  times Nothing like this has ever happened LIAM: Have you had the elderly or the sick in  these tents before MARISHA: Yeah you also happen to be very explicit  on your page that you don't want the sick so TALIESIN: Gustav MATT: At this motion Gustav goes \"It's generally  just because we want to promote a space of \"welcoming cleanliness When we're working amongst  the outskirts of the Empire we don't want to \"bring an element that reminds you of death and--\" SAM: You hate old people so much MATT: \"Well we're in entertainment We have to be  cautious\" The single Crown's Guard guy who's sitting there with his weapon out you can see him  shaking almost he's never had to deal with anyting like this before TALIESIN: Hold up I've never seen that one  before He looks really suspicious MATT: Towards him TALIESIN: No the guy behind him LAURA: (gasps) He does look suspicious MATT: Make a deception check TALIESIN: Sure Eight MATT: He goes \"Don't try that on me I've been  doing this for over ten years\" ASHLEY: Oh wait look at him LAURA: I cast Thaumaturgy and make it sound like  there's a sound coming from behind him too MATT: Make a sleight-of-hand check to see if you  can cast this spell subtly enough or not SAM: This poor guard Ooh (groaning) LAURA: Natural one MATT: As you attempt to cast this spell a little  bit of spittle gets caught in your windpipe and you begin to cough uncontrollably Yeah it just  falls away LAURA: (coughing) There was some popcorn that I  ate earlier TRAVIS: You should know that whatever happened to  that first man when he attacked the woman she caught whatever he had MATT: \"And that is extremely worrying Nobody  touch that body\" And he looks back and sees you coughing over the corpse and the guy's like  \"Don't you touch that body Are you sick\" LAURA: (coughing) I have bloody fingers MATT: \"Someone hold her down If she's sick and  turns into one of these I will not--\" ASHLEY: She's fine Just calm down TALIESIN: Well we've already killed two of them SAM: She's definitely sick MATT: Make a deception check LAURA: That was cocked unfortunately That was a  good one Oh well 16 MATT: 16 His face goes white and he goes \"Kill  the thing\" And rushes forward blade held above ASHLEY: I take out my greatsword SAM: What you're going to kill a guard ASHLEY: Stop stop MATT: He holds back He turns to you and sees you  standing a full four inches taller than him with a much larger blade with one hand and he goes  \"Look if she's going to become one of these \"things we have to stop her now\" LAURA: Yasha will totally kill me Don't worry  you can leave MARISHA: Jester Jokes are great until they get  you killed man She's joking LAURA: (weak laughter) SAM: Poor guard MATT: Immediately rubs his eyes You can see him  now that he's closer to you you can see he's sweating he's scared he's generally trying the  best he can to use whatever training he's received to deal with a scenario he was not trained for MARISHA: This is the King's Guard guy MATT: One of the Crown's Guard The Crown's Guard  are all generally hired and trained militia that are sent amongst all the cities to keep the  peace MARISHA: What's your name man TALIESIN: Wow he's really shook up SAM: Jamieson MATT: \"Flynn\" MARISHA: Flynn How long you been doing this you  said ten years MATT: \"Ten years two months ago\" MARISHA: Oh Happy ten year-i-versary Yeah  congrats Did you get a nice watch or like a commemorative tankard TRAVIS: They don't have watches yet MARISHA: Shit Did you get a commemorative  tankard Forget the watch part MATT: \"No Don't move\" MARISHA: I'm not moving man Hey Hey Flynn  Hey man How about first we put the swords down because we helped Yeah SAM: Are any of us high charisma 'Cause it don't  seem like it MATT: At this point the flaps at the front of the  tent the entranceway fold in and you watch as one two three four six ten Crown's Guard  begin filtering into the chamber You watch as one man the one who has his helmet off and under his  shoulder he's maybe in his early 40s or so short brown hair with patches of grey Somewhat  jaundiced skin Molly you've encountered this man once before when you entered the city He  approaches Gustav right now with a commanding voice \"I had a gut feeling that you were nothing  but trouble when you came into our town\" Gustav turns around \"I guarantee to you my friend I  have no idea--\" \"What happened here\" The Crown's Guard who's been shaken turns around and goes  \"Sir Flynn There was a creature This carnival \"seemed to create some sort of terrible entity that  killed and then created a secondary beast I \"watched it with my own eyes from the back row\"  And the man turns back towards Gustav and the rest of you \"And who else saw that\" TRAVIS: We did LAURA: Well we saw an old guy turn into a zombie  But it's possible that he just died because he was old and then he had the zombie curse on him and  just turned you know Because that happens a lot TALIESIN: (deadpan) Gustav it's no use we've  been found out Our terrible plot to make a zombie rampage through our carnival has been discovered  Whatever will we do now that we've been discovered for our brilliant plot to make a zombie ruin our  circus My god MATT: Flynn turns to you and goes \"Put your  weapons down or we'll arrest you immediately\" TALIESIN: I'm literally holding nothing but my  hands LIAM: I mean I'm sorry but we're basically a  group of strangers Most of us don't know each other We all have the same story There was a  show an old man became a thing and we helped destroy it This one destroyed it What more do  you want from us TALIESIN: It ruined our show MATT: Flynn turns back and says \"Watchmaster  what should we do\" And the man with the helmet under his arm walks forward walks to Gustav  gives him one look over still a few inches shorter than him Looks at him with a sense of  purpose and social status that has a sense of disinterest and disrespect \"You sir and your  orc and your circus are considered currently \"under arrest Who else belongs to your merry  band\" He looks about the rest and Gustav goes \"The orc\" Glances back at the two of you and  goes \"The rest of them are just purveyors of our \"performances He was just joking earlier right\"  Make a deception check SAM: Oh boy TALIESIN: Nope MATT: \"And you are also under arrest The rest of  you what are your names\" LAURA: Shirley SAM: Temple (muffled laughter) LIAM: Caleb Widogast MARISHA: Beau same as him TRAVIS: Bo (laughter) SAM: I am Bo TRAVIS: You pointed at me MARISHA: I meant the NPC Bo But it works ASHLEY: Here's the thing Oh it's Mary by the  way but I think I know who might know what has happened here MATT: \"Do you Tell me\" ASHLEY: I'll have to go get her MATT: \"Who is this\" ASHLEY: She is the singer that made this all  happen MATT: \"Flynn escort this woman to retrieve this  individual she speaks of\" Flynn nods and walks over towards you LAURA: She's really shy though and I hear she  only talks to tieflings so you should probably send-- MATT: \"Stay where you are\" LAURA: --my brother along because he's really good  with that stuff TALIESIN: Try not to stab any random people on  your way there Flynn You're doing good MATT: \"My men tell me that the rest of you helped  destroy these fiends Is that correct\" ALL: Yeah MATT: \"Then on behalf of the Starosta I  appreciate your aid But until this investigation \"is complete you are all under investigation from  us Where are you staying\" TRAVIS: The Nestled Nook Inn SAM: Nested Nook MATT: Nestled He got it right SAM: Oh shit One letter God damn it TRAVIS: I have an intelligence of 14 I know what  I'm doing MATT: \"Do not leave this city unless you are told  otherwise Should you do so I have your names \"and I can have the full might of the Cerberus  Assembly track you down You Flynn Free this \"girl\" While you all stand in the tent Flynn  approaches you and walks a little bit behind you weapon drawn but at the side Do you lead him out  of the tent Okay So you walk through the performer's flap and as you walk out you can see  backed up into the number of tents that are set up and some of the carts other members of the  circus are hiding and as soon as you exit out the front and they see you before the Crown's  Guard they all immediately scatter and vanish to the nearby shadows out of sight The two of you  walk out into the center the fire crackling in a small pit off to the side \"All right where is  this girl you speak of\" ASHLEY: She's in the back in the tents MATT: \"Show me\" ASHLEY: Follow me MATT: He follows you Which tent do you lead him  to Over here Okay there's a larger tent as he walks by your side there's the flap that's  slightly open SAM: God you could seduce him ASHLEY: Go get her She won't talk to me She's  too scared of me MATT: \"All right\" Gets his weapon ready and walks  into the tent ASHLEY: I close the tent and I take off MATT: Okay There's a few moments before in the  distance you hear a voice say \"The tent is \"empty What are you talking about Hello  Helloooo\" (laughter) MATT: And you don't look back and you just run  into the darkness of night into the Marrow Fields and disappear SAM: But that's so mysterious LIAM: While that was happening I'm close to the  edge of the tent and at some point I just (snap) and summoned Frumpkin I have a 30-feet outside  the tent so Frumpkin's out there MATT: Okay Frumpkin keeps watch The Watchmaster  as you heard him notified earlier turns to the rest of you \"So The investigation will begin If  any information comes to light that could \"alleviate you of the charges brought to this  carnival come to me and let me know If you have \"no answers before we complete this investigation  then I believe you all will fall into the judgment\" LAURA: Next time we don't help That's what it  comes down to MARISHA: I know we got paid the first time we  helped and then we got arrested the second time I don't know what lesson to learn here SAM: Just say okay and let's leave LIAM: Yeah yeah MATT: So the guards escort you out of the tent  Molly you're stuck behind with Gustav and Bo the Breaker with a guard of five Crown's Guards set  to keep watch As the rest of you are sent to the city the Watchmaster turns once more and says  \"Remember you flee I'll find you\" And that's where we'll end tonight's session SAM: No way What No I want to keep playing TALIESIN: I'm so excited this is great LIAM: It's a good spot ASHLEY: We did it we did it TRAVIS: Holy shit LAURA: We have to get Molly out SAM: (sighs) Everything's better with Molly (laughter) TALIESIN: Truer words were never spoken MATT: Well guys welcome to the new campaign  Season two I guess LIAM: Oh my goodness MARISHA: It feels so weird SAM: Look at these cool Wyrmwood cases that we  have MATT: Fucking Sam I swear to god MARISHA: I used 100% new dice No repeats from  Keyleth TRAVIS: Yeah totally new dice TALIESIN: I kept the Gil die LAURA: I used some new dice TRAVIS: What are you talking about LAURA: <i>Some</i> new dice MATT: I used this beautiful little-- TALIESIN: Fuck you MATT: The Snitch is mine now LIAM: Look at all the 20s Taliesin rolled  tonight MATT: I know Oh man I'm excited SAM: Such cool characters guys MATT: I'm excited to see where this goes SAM: I still don't know what half of you guys are  What's Travis MATT: Everyone did something that revealed them  tonight SAM: I don't know nothing I don't know how to  play D&D MARISHA: Should we all say in case you're Sam and  you don't know TRAVIS: I'm a ballerina MARISHA: He's a prima MATT: Well guys Happy New Year Welcome back  Happy New Year to you guys Thank you for coming along with us on this first episode of a new  journey Thank you Backblaze and DnD Beyond for being awesome sponsors partnered with us going  forward Thank you Wyrmwood for this amazing table Thank you guys for coming along with us  this evening for our first dive into this new venture Hope you enjoyed it We did MARISHA: Thank you to our amazing crew SAM: Thank you Matt Mercer for this amazing new  campaign Welcome to Wildemount MATT: I'm excited SAM: Thanks Yev MATT: Guys have a wonderful evening We'll see  you next week See where this next stage in the story takes us Ashley I'm glad you could make it  for this first episode ASHLEY: Yeah me too MATT: Until then have a wonderful night sleep  well and is it Thursday yet Good night (cheering) [music] \n"
    }
   ],
   "source": [
    "# Get a long string of all the texts\n",
    "text = ''\n",
    "for row in rows:\n",
    "    try:\n",
    "        text += row['text']\n",
    "    except:\n",
    "        print(row)\n",
    "text = text.replace('\\n', ' ')\n",
    "text = text.replace('.', '')\n",
    "text = text.replace(',', '')\n",
    "text = text.replace('?', '')\n",
    "text = text.replace('!', '')\n",
    "text = text.replace('\"', '')\n",
    "print(text)"
   ]
  },
  {
   "cell_type": "code",
   "execution_count": 33,
   "metadata": {},
   "outputs": [],
   "source": [
    "def parse_texts(text):\n",
    "    '''\n",
    "    Read through the combined text and sort them by voice actor\n",
    "    '''\n",
    "    voice_actors_words = {\n",
    "        'ASHLEY:': [],\n",
    "        'LAURA:': [],\n",
    "        'LIAM:': [],\n",
    "        'MARISHA:': [],\n",
    "        'MATT:': [],\n",
    "        'SAM:': [],\n",
    "        'TALIESIN:': [],\n",
    "        'TRAVIS:': [],\n",
    "    }\n",
    "    words = []\n",
    "    current_speaker = ''\n",
    "    \n",
    "\n",
    "    # Find first speaker:\n",
    "    for word in text.split(' '):\n",
    "        if word in voice_actors_words:\n",
    "            current_speaker = word\n",
    "\n",
    "    # Sort all the rest of the words\n",
    "    for word in text.split(' '):\n",
    "        if word in voice_actors_words:\n",
    "            voice_actors_words[current_speaker] += words\n",
    "            words = []\n",
    "            current_speaker = word\n",
    "        else:\n",
    "            words.append(word)\n",
    "    return voice_actors_words\n",
    "words_per_actor = parse_texts(text)"
   ]
  },
  {
   "cell_type": "code",
   "execution_count": 43,
   "metadata": {},
   "outputs": [
    {
     "name": "stdout",
     "output_type": "stream",
     "text": "m', 'a', 'g', 'e', 'a', 'n', 'd', 'o', 'n', 'e', 'p', 'o', 'i', 'n', 't', 'o', 'f', 'i', 'c', 'e', 'd', 'a', 'm', 'a', 'g', 'e', 'N', 'o', 't', 'h', 'a', 't', 'w', 'a', 's', 'm', 'y', 'b', 'o', 'n', 'u', 's', 'Y', 'e', 'a', 'h', 'n', 'o', 'I', \"'\", 'm', 'g', 'o', 'i', 'n', 'g', 't', 'o', 'u', 's', 'e', 'B', 'l', 'o', 'o', 'd', 'M', 'a', 'l', 'a', 'd', 'i', 'c', 't', 'O', 'h', 't', 'h', 'a', 't', \"'\", 's', 'r', 'i', 'g', 'h', 't', 'b', 'e', 'c', 'a', 'u', 's', 'e', 'I', \"'\", 'm', 'n', 'o', 't', 'd', 'o', 'u', 'b', 'l', 'i', 'n', 'g', 'i', 't', 'u', 'p', 'I', \"'\", 'm', 's', 't', 'i', 'l', 'l', 'e', 'n', 'g', 'a', 'g', 'e', 'd', 'w', 'i', 't', 'h', 'i', 't', 'r', 'i', 'g', 'h', 't', 'O', 'k', 'a', 'y', 'I', \"'\", 'm', 'g', 'o', 'i', 'n', 'g', 't', 'o', 't', 'a', 'k', 'e', 't', 'w', 'o', 's', 'w', 'i', 'p', 'e', 's', 'P', 'u', 'r', 'p', 'l', 'e', \"'\", 's', 't', 'h', 'e', 'i', 'c', 'e', 'T', 'h', 'a', 't', \"'\", 's', 't', 'h', 'e', 'p', 'u', 'r', 'p', 'l', 'e', 'i', 's', '1', '2', 't', 'o', 'h', 'i', 't', 'O', 'o', 'h', 'S', 'o', 't', 'h', 'e', 'y', 'b', 'o', 't', 'h', 'h', 'i', 't', 's', 'o', 't', 'h', 'a', 't', \"'\", 's', 'g', 'o', 'o', 'd', 'S', 'o', 't', 'h', 'a', 't', \"'\", 's', 'g', 'o', 'i', 'n', 'g', 't', 'o', 'b', 'e', 'o', 'r', 'a', 'l', 'l', 't', 'h', 'r', 'e', 'e', 't', 'h', 'e', 'n', 'b', 'e', 'c', 'a', 'u', 's', 'e', 't', 'h', 'e', 'o', 't', 'h', 'e', 'r', 'o', 'n', 'e', 'i', 's', '2', '1', 't', 'o', 'h', 'i', 't', 'T', 'h', 'e', 'f', 'i', 'r', 's', 't', 'o', 'n', 'e', 'i', 's', 'f', 'o', 'u', 'r', 'p', 'o', 'i', 'n', 't', 's', 'o', 'f', 'd', 'a', 'm', 'a', 'g', 'e', 'I', \"'\", 'm', 's', 'o', 'r', 'r', 'y', 't', 'h', 'e', 'm', 'a', 'g', 'i', 'c', 'o', 'n', 'e', 'i', 's', 's', 'i', 'x', 'p', 'o', 'i', 'n', 't', 's', 'p', 'l', 'u', 's', 't', 'h', 'r', 'e', 'e', 'i', 'c', 'e', 's', 'o', 'n', 'i', 'n', 'e', 'p', 'o', 'i', 'n', 't', 's', 'T', 'h', 'e', 'o', 't', 'h', 'e', 'r', 'o', 'n', 'e', 'i', 's', 'f', 'o', 'u', 'r', 'p', 'o', 'i', 'n', 't', 's', 'o', 'f', 'd', 'a', 'm', 'a', 'g', 'e', 'F', 'o', 'u', 'r', 'p', 'o', 'i', 'n', 't', 's', 'o', 'f', 'd', 'a', 'm', 'a', 'g', 'e', 'S', 'o', 'm', 'e', 'o', 'n', 'e', 'a', 'n', 'y', 'o', 'n', 'e', 'Y', 'e', 'p', 'J', 'u', 's', 't', 'k', 'i', 'l', 'l', 'i', 't', 'O', 'n', 'e', 'o', 'f', 't', 'h', 'e', 'm', 't', 'u', 'r', 'n', 'e', 'd', 'I', 'd', 'o', 'n', \"'\", 't', 'k', 'n', 'o', 'w', 'w', 'h', 'a', 't', 'h', 'a', 'p', 'p', 'e', 'n', 'e', 'd', 'I', \"'\", 'm', 'g', 'o', 'i', 'n', 'g', 't', 'o', 'd', 'r', 'o', 'p', 'm', 'y', 's', 'w', 'o', 'r', 'd', 'O', 'h', 'w', 'h', 'e', 'r', 'e', 'v', 'e', 'r', 'w', 'i', 'l', 'l', 'I', 'g', 'o', 'W', 'e', \"'\", 'v', 'e', 'n', 'e', 'v', 'e', 'r', 's', 'e', 'e', 'n', 'a', 'n', 'y', 't', 'h', 'i', 'n', 'g', 'l', 'i', 'k', 'e', 'i', 't', 'b', 'e', 'f', 'o', 'r', 'e', 'H', 'e', 'j', 'u', 's', 't', 'h', 'e', 'g', 'r', 'i', 'p', 'p', 'e', 'd', 'h', 'i', 's', 'h', 'e', 'a', 'r', 't', 'a', 'n', 'd', 'f', 'e', 'l', 'l', 'o', 'v', 'e', 'r', 'a', 'n', 'd', 't', 'u', 'r', 'n', 'e', 'd', 'i', 'n', 't', 'o', 't', 'h', 'a', 't', 't', 'h', 'i', 'n', 'g', 'N', 'o', 't', 'h', 'i', 'n', 'g', 'l', 'i', 'k', 'e', 't', 'h', 'i', 's', 'I', 'f', 'e', 'e', 'l', 't', 'h', 'a', 't', 't', 'h', 'a', 't', 'w', 'a', 's', 'e', 'n', 't', 'i', 'r', 'e', 'l', 'y', 'c', 'o', 'i', 'n', 'c', 'i', 'd', 'e', 'n', 't', 'a', 'l', 'I', \"'\", 'm', 'r', 'e', 'a', 'l', 'l', 'y', 'n', 'o', 't', 's', 'u', 'r', 'e', 't', 'h', 'a', 't', 't', 'h', 'e', 't', 'w', 'o', 't', 'h', 'i', 'n', 'g', 's', 'w', 'e', 'r', 'e', 'r', 'e', 'l', 'a', 't', 'e', 'd', 'S', 'o', 'm', 'e', 't', 'h', 'i', 'n', 'g', 'w', 'a', 's', 'w', 'r', 'o', 'n', 'g', 'w', 'i', 't', 'h', 't', 'h', 'i', 's', 'm', 'a', 'n', 'W', 'e', \"'\", 'v', 'e', 's', 'e', 'e', 'n', 'h', 'e', 'r', 's', 'i', 'n', 'g', 'd', 'o', 'z', 'e', 'n', 's', 'h', 'u', 'n', 'd', 'r', 'e', 'd', 's', 'o', 'f', 't', 'i', 'm', 'e', 's', 'N', 'o', 't', 'h', 'i', 'n', 'g', 'l', 'i', 'k', 'e', 't', 'h', 'i', 's', 'h', 'a', 's', 'e', 'v', 'e', 'r', 'h', 'a', 'p', 'p', 'e', 'n', 'e', 'd', 'I', \"'\", 'v', 'e', 's', 'e', 'e', 'n', 'p', 'e', 'o', 'p', 'l', 'e', 's', 'i', 't', 'i', 'n', 't', 'h', 'e', 'f', 'r', 'o', 'n', 't', 'r', 'o', 'w', 'h', 'u', 'n', 'd', 'r', 'e', 'd', 's', 'o', 'f', 't', 'i', 'm', 'e', 's', 'N', 'o', 't', 'h', 'i', 'n', 'g', 'l', 'i', 'k', 'e', 't', 'h', 'i', 's', 'h', 'a', 's', 'e', 'v', 'e', 'r', 'h', 'a', 'p', 'p', 'e', 'n', 'e', 'd', 'G', 'u', 's', 't', 'a', 'v', 'H', 'o', 'l', 'd', 'u', 'p', 'I', \"'\", 'v', 'e', 'n', 'e', 'v', 'e', 'r', 's', 'e', 'e', 'n', 't', 'h', 'a', 't', 'o', 'n', 'e', 'b', 'e', 'f', 'o', 'r', 'e', 'H', 'e', 'l', 'o', 'o', 'k', 's', 'r', 'e', 'a', 'l', 'l', 'y', 's', 'u', 's', 'p', 'i', 'c', 'i', 'o', 'u', 's', 'N', 'o', 't', 'h', 'e', 'g', 'u', 'y', 'b', 'e', 'h', 'i', 'n', 'd', 'h', 'i', 'm', 'S', 'u', 'r', 'e', 'E', 'i', 'g', 'h', 't', 'W', 'e', 'l', 'l', 'w', 'e', \"'\", 'v', 'e', 'a', 'l', 'r', 'e', 'a', 'd', 'y', 'k', 'i', 'l', 'l', 'e', 'd', 't', 'w', 'o', 'o', 'f', 't', 'h', 'e', 'm', 'W', 'o', 'w', 'h', 'e', \"'\", 's', 'r', 'e', 'a', 'l', 'l', 'y', 's', 'h', 'o', 'o', 'k', 'u', 'p', 'G', 'u', 's', 't', 'a', 'v', 'i', 't', \"'\", 's', 'n', 'o', 'u', 's', 'e', 'w', 'e', \"'\", 'v', 'e', 'b', 'e', 'e', 'n', 'f', 'o', 'u', 'n', 'd', 'o', 'u', 't', 'O', 'u', 'r', 't', 'e', 'r', 'r', 'i', 'b', 'l', 'e', 'p', 'l', 'o', 't', 't', 'o', 'm', 'a', 'k', 'e', 'a', 'z', 'o', 'm', 'b', 'i', 'e', 'r', 'a', 'm', 'p', 'a', 'g', 'e', 't', 'h', 'r', 'o', 'u', 'g', 'h', 'o', 'u', 'r', 'c', 'a', 'r', 'n', 'i', 'v', 'a', 'l', 'h', 'a', 's', 'b', 'e', 'e', 'n', 'd', 'i', 's', 'c', 'o', 'v', 'e', 'r', 'e', 'd', 'W', 'h', 'a', 't', 'e', 'v', 'e', 'r', 'w', 'i', 'l', 'l', 'w', 'e', 'd', 'o', 'n', 'o', 'w', 't', 'h', 'a', 't', 'w', 'e', \"'\", 'v', 'e', 'b', 'e', 'e', 'n', 'd', 'i', 's', 'c', 'o', 'v', 'e', 'r', 'e', 'd', 'f', 'o', 'r', 'o', 'u', 'r', 'b', 'r', 'i', 'l', 'l', 'i', 'a', 'n', 't', 'p', 'l', 'o', 't', 't', 'o', 'm', 'a', 'k', 'e', 'a', 'z', 'o', 'm', 'b', 'i', 'e', 'r', 'u', 'i', 'n', 'o', 'u', 'r', 'c', 'i', 'r', 'c', 'u', 's', 'M', 'y', 'g', 'o', 'd', 'I', \"'\", 'm', 'l', 'i', 't', 'e', 'r', 'a', 'l', 'l', 'y', 'h', 'o', 'l', 'd', 'i', 'n', 'g', 'n', 'o', 't', 'h', 'i', 'n', 'g', 'b', 'u', 't', 'm', 'y', 'h', 'a', 'n', 'd', 's', 'I', 't', 'r', 'u', 'i', 'n', 'e', 'd', 'o', 'u', 'r', 's', 'h', 'o', 'w', 'N', 'o', 'p', 'e', 'T', 'r', 'y', 'n', 'o', 't', 't', 'o', 's', 't', 'a', 'b', 'a', 'n', 'y', 'r', 'a', 'n', 'd', 'o', 'm', 'p', 'e', 'o', 'p', 'l', 'e', 'o', 'n', 'y', 'o', 'u', 'r', 'w', 'a', 'y', 't', 'h', 'e', 'r', 'e', 'F', 'l', 'y', 'n', 'n', 'Y', 'o', 'u', \"'\", 'r', 'e', 'd', 'o', 'i', 'n', 'g', 'g', 'o', 'o', 'd', 'I', \"'\", 'm', 's', 'o', 'e', 'x', 'c', 'i', 't', 'e', 'd', 't', 'h', 'i', 's', 'i', 's', 'g', 'r', 'e', 'a', 't', 'T', 'r', 'u', 'e', 'r', 'w', 'o', 'r', 'd', 's', 'w', 'e', 'r', 'e', 'n', 'e', 'v', 'e', 'r', 's', 'p', 'o', 'k', 'e', 'n', 'I', 'k', 'e', 'p', 't', 't', 'h', 'e', 'G', 'i', 'l', 'd', 'i', 'e', 'F', 'u', 'c', 'k', 'y', 'o', 'u']\n['W', 'o', 'u', 'l', 'd', 'y', 'o', 'u', 'l', 'i', 'k', 'e', 's', 'o', 'm', 'e', 'W', 'e', 'l', 'l', 'w', 'e', 'a', 'l', 'l', 'd', 'i', 'e', 'd', 's', 'o', 'O', 'h', 'm', 'a', 'k', 'e', 'i', 't', 's', 'o', 'o', 'n', 'e', 'r', 'C', 'h', 'e', 'c', 'k', 'i', 't', 'o', 'u', 't', 'e', 'v', 'e', 'r', 'y', 'w', 'h', 'e', 'r', 'e', 'F', 'i', 'r', 's', 't', 'w', 'e', 'e', 'k', 'e', 'n', 'd', 'o', 'f', 'M', 'a', 'r', 'c', 'h', 'T', 'h', 'a', 't', 'w', 'a', 's', 'a', 'n', 'e', 'w', 'l', 'e', 'v', 'e', 'l', 'I', 'l', 'o', 'v', 'e', 'h', 'e', 'r', 'Y', 'e', 'a', 'h', 'I', \"'\", 'm', 'h', 'e', 'r', 'e', 't', 'o', 'o', 'I', \"'\", 'm', 'a', 'h', 'a', 'l', 'f', '-', 'o', 'r', 'c', 's', 'i', 't', 't', 'i', 'n', 'g', 'h', 'e', 'r', 'e', 'i', 'n', 'b', 'e', 'a', 't', '-', 'u', 'p', 'l', 'e', 'a', 't', 'h', 'e', 'r', 's', 'H', 'a', 'v', 'e', 'a', 'b', 'i', 'g', 's', 'c', 'a', 'r', 'a', 'c', 'r', 'o', 's', 's', 'm', 'y', 'f', 'a', 'c', 'e', 'G', 'r', 'e', 'e', 'n', 's', 'k', 'i', 'n', 't', 'o', 'n', 'e', 'a', 'n', 'd', 'g', 'o', 't', 's', 'o', 'm', 'e', 'p', 'i', 'e', 'c', 'e', 'm', 'e', 'a', 'l', 'a', 'r', 'm', 'o', 'r', 'p', 'u', 't', 't', 'o', 'g', 'e', 't', 'h', 'e', 'r', 'a', 'n', 'd', 's', 't', 'u', 'f', 'f', 'M', 'y', 'n', 'a', 'm', 'e', \"'\", 's', 'F', 'j', 'o', 'r', 'd', 'T', 'h', 'a', 'n', 'k', 'y', 'o', 'u', 'A', 'p', 'p', 'r', 'e', 'c', 'i', 'a', 't', 'e', 't', 'h', 'a', 't', 'W', 'e', 'c', 'a', 'n', \"'\", 't', 'a', 'c', 'c', 'e', 'p', 't', 't', 'h', 'i', 's', 'r', 'i', 'g', 'h', 't', 'I', 'm', 'e', 'a', 'n', 'i', 't', \"'\", 's', 't', 'o', 'o', 'm', 'u', 'c', 'h', 'I', 't', 'h', 'i', 'n', 'k', 'y', 'o', 'u', \"'\", 'r', 'e', 's', 'u', 'p', 'p', 'o', 's', 'e', 'd', 't', 'o', 'd', 'o', 'i', 't', 'i', 'f', 'y', 'o', 'u', 's', 'a', 'y', 'i', 't', 'F', 'i', 'n', 'e', 'f', 'i', 'n', 'e', 'C', 'a', 'n', 'I', 'c', 'l', 'o', 'c', 'k', 't', 'h', 'e', 'r', 'o', 'o', 'm', 's', 'e', 'e', 'w', 'h', 'o', 'e', 'l', 's', 'e', 'i', 's', 'w', 'a', 't', 'c', 'h', 'i', 'n', 'g', 'h', 'e', 'r', 'c', 'o', 'u', 'n', 't', 'I', 's', 't', 'h', 'i', 's', 't', 'h', 'e', 'f', 'i', 'r', 's', 't', 'r', 'o', 'l', 'l', 'N', 'a', 't', 'u', 'r', 'a', 'l', '2', '0', 'W', 'e', 'l', 'l', 'I', 'a', 'c', 't', 'u', 'a', 'l', 'l', 'y', 'd', 'i', 'd', 'p', 'r', 'e', 't', 't', 'y', 'g', 'o', 'o', 'd', 'a', 't', 't', 'h', 'a', 't', 'c', 'a', 'r', 'd', 'g', 'a', 'm', 'e', 's', 'o', 'y', 'o', 'u', 'c', 'a', 'n', 'h', 'a', 'v', 'e', 'm', 'i', 'n', 'e', 'T', 'h', 'a', 't', \"'\", 's', 'c', 'r', 'e', 'e', 'p', 'y', 'F', 'u', 'c', 'k', 'i', 'n', 'g', 'd', 'i', 's', 'g', 'u', 's', 't', 'i', 'n', 'g', 'I', 't', 'h', 'i', 'n', 'k', 'w', 'e', 'h', 'a', 'v', 'e', 'p', 'e', 'o', 'p', 'l', 'e', 'w', 'a', 't', 'c', 'h', 'i', 'n', 'g', 'u', 's', 'W', 'e', 'l', 'l', 'j', 'u', 's', 't', 't', 'a', 'k', 'e', 'a', 'l', 'o', 'o', 'k', 'r', 'i', 'g', 'h', 't', 'o', 'v', 'e', 'r', 't', 'h', 'e', 'r', 'e', 'Y', 'o', 'u', \"'\", 'r', 'e', 'b', 'e', 'i', 'n', 'g', 'm', 'i', 'g', 'h', 't', 'y', 'f', 'u', 'c', 'k', 'i', 'n', 'g', 'f', 'r', 'i', 'e', 'n', 'd', 'l', 'y', 'T', 'h', 'e', 'y', 'w', 'e', 'r', 'e', 'l', 'o', 'o', 'k', 'i', 'n', 'g', 'a', 't', 'o', 'u', 'r', 'c', 'o', 'i', 'n', 'I', 'd', 'i', 'd', 'n', \"'\", 't', 't', 'h', 'i', 'n', 'k', 'o', 'f', 't', 'h', 'a', 't', 'P', 'o', 'r', 'k', 'b', 'e', 'l', 'l', 'y', 'i', 'f', 'y', 'o', 'u', 'h', 'a', 'v', 'e', 'i', 't', 'O', 'n', 'e', 'o', 'f', 'y', 'o', 'u', 'r', 'c', 'h', 'a', 'r', 'a', 'c', 't', 'e', 'r', 's', 'N', 'o', 'T', 'h', 'e', 't', 'e', 'n', 't', 'D', 'i', 'd', 't', 'h', 'e', 'y', 'd', 'i', 'e', 'i', 'n', 't', 'h', 'e', 's', 'h', 'o', 'w', 'o', 'r', 'f', 'r', 'o', 'm', 'w', 'a', 't', 'c', 'h', 'i', 'n', 'g', 'i', 't', 'S', 'h', 'e', 'd', 'i', 'd', 'n', \"'\", 't', 's', 'a', 'y', 'm', 'u', 'c', 'h', 'W', 'a', 's', 'h', 'e', 'u', 's', 'i', 'n', 'g', 'm', 'a', 'g', 'i', 'c', 'J', 'e', 's', 't', 'e', 'r', 'd', 'o', 'n', \"'\", 't', 'y', 'o', 'u', 'r', 'e', 'm', 'e', 'm', 'b', 'e', 'r', 'u', 's', 't', 'a', 'l', 'k', 'i', 'n', 'g', 'a', 'b', 'o', 'u', 't', 'k', 'e', 'e', 'p', 'i', 'n', 'g', 'a', 'l', 'o', 'w', 'p', 'r', 'o', 'f', 'i', 'l', 'e', 'C', 'o', 'u', 'l', 'd', 'y', 'o', 'u', 'p', 'u', 't', 'h', 'i', 'm', 'o', 'v', 'e', 'r', 't', 'h', 'e', 'r', 'e', 'I', \"'\", 'm', 'p', 'r', 'e', 't', 't', 'y', 's', 'u', 'r', 'e', 'h', 'e', \"'\", 's', 'a', 'r', 'e', 'a', 'l', 'f', 'u', 'c', 'k', 'i', 'n', 'g', 'c', 'a', 't', 'W', 'e', 'l', 'l', 'I', 'm', 'e', 'a', 'n', 'a', 'l', 'i', 't', 't', 'l', 'e', 'T', 'r', 'y', 'i', 'n', 'g', 't', 'o', 'l', 'e', 'a', 'r', 'n', 'm', 'o', 'r', 'e', 'T', 'h', 'a', 'n', 'k', 's', 'J', 'e', 's', 't', 'e', 'r', 'S', 'h', 'e', \"'\", 's', 'b', 'e', 't', 't', 'e', 'r', 'a', 't', 'i', 't', 't', 'h', 'a', 'n', 'I', 'a', 'm', 'W', 'e', \"'\", 'r', 'e', 't', 'r', 'y', 'i', 'n', 'g', 't', 'o', 'm', 'a', 'k', 'e', 'o', 'u', 'r', 'w', 'a', 'y', 'u', 'p', 't', 'o', 't', 'h', 'e', 'A', 'c', 'a', 'd', 'e', 'm', 'y', 't', 'o', 'g', 'e', 't', 'a', 'l', 'i', 't', 't', 'l', 'e', 'b', 'i', 't', 'm', 'o', 'r', 'e', 'l', 'e', 'a', 'r', 'n', 'i', 'n', 'g', 'd', 'o', 'n', 'e', 'W', 'e', 'l', 'l', 'y', 'e', 'a', 'h', 'i', 't', \"'\", 's', 't', 'h', 'e', 'p', 'l', 'a', 'c', 'e', 't', 'o', 'b', 'e', 'S', 'o', 'l', 's', 't', 'r', 'y', 'c', 'e', 'A', 'c', 'a', 'd', 'e', 'm', 'y', 'Y', 'o', 'u', 'k', 'n', 'o', 'w', 'Y', 'o', 'u', 'k', 'n', 'o', 'w', 'i', 't', 'A', 'n', 'd', 'y', 'o', 'u', 'h', 'a', 'v', 'e', 'a', 'r', 'c', 'a', 'n', 'e', 't', 'a', 'l', 'e', 'n', 't', 's', 'a', 's', 'w', 'e', 'l', 'l', 'D', 'o', 'y', 'o', 'u', 'k', 'n', 'o', 'w', 'a', 'n', 'y', 't', 'h', 'i', 'n', 'g', 'a', 'b', 'o', 'u', 't', 'i', 't', 'W', 'e', \"'\", 'r', 'e', 'j', 'u', 's', 't', 'g', 'o', 'i', 'n', 'g', 'u', 'p', 'B', 'e', 'g', 'i', 'n', 'n', 'e', 'r', \"'\", 's', 'l', 'u', 'c', 'k', 'N', 'o', 'S', 'o', 'm', 'e', 'b', 'o', 'd', 'y', 'h', 'a', 's', 'a', 'g', 'a', 'm', 'b', 'l', 'i', 'n', 'g', 'p', 'r', 'o', 'b', 'l', 'e', 'm', 'M', 'a', 'y', 'b', 'e', 'y', 'o', 'u', 'c', 'o', 'u', 'l', 'd', 'g', 'i', 'v', 'e', 's', 'o', 'm', 'e', 'o', 'f', 'i', 't', 'b', 'a', 'c', 'k', 'W', 'h', 'a', 't', 't', 'h', 'e', 'f', 'u', 'c', 'k', 'i', 's', 'a', 'v', 'o', 'l', 'e', 'W', 'h', 'a', 't', 'e', 'l', 's', 'e', 'i', 's', 't', 'h', 'e', 'r', 'e', 'W', 'e', 'd', 'i', 'd', 'y', 'e', 'a', 'h', 'W', 'e', 'g', 'e', 't', 'b', 'o', 'r', 'e', 'd', 'p', 'r', 'e', 't', 't', 'y', 'e', 'a', 's', 'i', 'l', 'y', 'M', 'a', 'y', 'b', 'e', 'n', 'o', 't', 'o', 'u', 't', 'l', 'o', 'u', 'd', 's', 'a', 'y', 't', 'h', 'a', 't', 'J', 'u', 's', 't', 'a', 't', 'h', 'o', 'u', 'g', 'h', 't', 'I', 'd', 'o', 'n', \"'\", 't', 'h', 'a', 'v', 'e', 'a', 'p', 'r', 'o', 'b', 'l', 'e', 'm', 'w', 'i', 't', 'h', 'g', 'o', 'b', 'l', 'i', 'n', 's', 'b', 'u', 't', 'y', 'o', 'u', 'g', 'u', 'y', 's', 'a', 'r', 'e', 'n', \"'\", 't', 'i', 'n', 'a', 'n', 'y', 't', 'r', 'o', 'u', 'b', 'l', 'e', 'a', 'r', 'e', 'y', 'o', 'u', 'N', 'o', 'o', 'n', 'e', \"'\", 's', 'a', 'f', 't', 'e', 'r', 'y', 'o', 'u', 'C', 'a', 'n', 'I', 'm', 'a', 'k', 'e', 'a', 'n', 'i', 'n', 's', 'i', 'g', 'h', 't', 'c', 'h', 'e', 'c', 'k', '1', '3', 'G', 'o', 'o', 'd', 't', 'o', 'k', 'n', 'o', 'w', 'A', 'n', 'n', 'a', 'b', 'e', 'l', 'l', 'e', 'I', 't', 's', 'e', 'e', 'm', 's', 'w', 'e', 'h', 'a', 'v', 'e', 'a', 'l', 'l', 'd', 'a', 'y', 'W', 'h', 'a', 't', 'w', 'e', 'r', 'e', 'y', 'o', 'u', 'r', 'p', 'l', 'a', 'n', 's', 'D', 'i', 'd', 'n', \"'\", 't', 'l', 'e', 'a', 'v', 'e', 'o', 'n', 't', 'h', 'e', 'b', 'e', 's', 't', 'o', 'f', 't', 'e', 'r', 'm', 's', 'L', 'a', 'r', 'y', 'n', 'g', 'i', 't', 'i', 's', 'e', 'v', 'e', 'r', 'y', 'F', 'r', 'i', 'd', 'a', 'y', 'I', 'm', 'i', 'g', 'h', 't', 'j', 'u', 's', 't', 'w', 'a', 'i', 't', 'f', 'o', 'r', 't', 'h', 'e', 'c', 'a', 'r', 'n', 'i', 'v', 'a', 'l', 'a', 'c', 't', 'u', 'a', 'l', 'l', 'y', 'I', 'l', 'o', 'v', 'e', 'h', 'o', 'w', 'y', 'o', 'u', 'r', 'f', 'i', 'd', 'd', 'l', 'e', 'n', 'o', 'i', 's', 'e', 's', 'w', 'e', 'r', 'e', 'b', 'e', 'e', 'd', 'l', 'e', '-', 'd', 'e', 'e', 'd', 'l', 'e', 'F', 'a', 'c', 'e', 'i', 's', 'o', 'n', 'f', 'i', 'r', 'e', 'B', 'r', 'i', 'n', 'g', 't', 'h', 'a', 't', 'a', 's', 's', 'b', 'a', 'c', 'k', 'N', 'o', 'w', 'I', 'w', 'a', 'n', 't', 't', 'o', 's', 'e', 'e', 't', 'h', 'e', 's', 'h', 'o', 'w', 'H', 'a', 'h', 'T', 'h', 'a', 't', \"'\", 's', 'a', 'n', 'i', 'n', 't', 'e', 'r', 'e', 's', 't', 'i', 'n', 'g', 'c', 'h', 'o', 'i', 'c', 'e', 'S', 'u', 'r', 'e', 'M', 'y', 'f', 'a', 'l', 'c', 'h', 'i', 'o', 'n', '1', '1', 'F', 'u', 'c', 'k', 'i', 'n', 'g', 'l', 'e', 'a', 'd', 't', 'h', 'e', 'w', 'a', 'y', 'T', 'h', 'e', 'b', 'i', 'r', 'd', 's', 'a', 'r', 'e', 'o', 'u', 't', 'a', 'l', 'r', 'e', 'a', 'd', 'y', 'T', 'h', 'e', 'r', 'e', \"'\", 's', 'n', 'o', 'b', 'e', 'n', 'c', 'h', 'e', 's', 'O', 'h', 'f', 'u', 'c', 'k', 'C', 'a', 'r', 'n', 'i', 'v', 'a', 'l', 'I', 'd', 'o', 'n', \"'\", 't', 'k', 'n', 'o', 'w', 'Y', 'a', 's', 'h', 'a', 'W', 'e', \"'\", 'r', 'e', 'g', 'o', 'i', 'n', 'g', 't', 'o', 'n', 'e', 'e', 'd', 't', 'h', 'o', 's', 'e', 'w', 'e', 'a', 'p', 'o', 'n', 's', 'b', 'a', 'c', 'k', 'N', 'o', 't', 'p', 'a', 'r', 't', 'o', 'f', 't', 'h', 'e', 's', 'h', 'o', 'w', 'F', 'i', 'r', 's', 't', 'm', 'a', 'p', '1', '2', 'C', 'a', 'n', 'I', 'r', 'u', 'n', 'u', 'p', 'w', 'i', 't', 'h', 't', 'h', 'e', 'f', 'a', 'l', 'c', 'h', 'i', 'o', 'n', 'w', 'i', 't', 'h', 'i', 'n', 'm', 'e', 'l', 'e', 'e', 'R', 'i', 'p', 'p', 'i', 'n', 'g', 't', 'h', 'e', 'f', 'a', 'l', 'c', 'h', 'i', 'o', 'n', 'c', 'a', 'n', 'I', 's', 'w', 'i', 'n', 'g', 'i', 't', 'i', 'n', 't', 'o', 't', 'h', 'e', 'c', 'r', 'e', 'a', 't', 'u', 'r', 'e', 'I', 'd', 'o', 'T', 'h', 'a', 'n', 'k', 'g', 'o', 'd', 'b', 'e', 'c', 'a', 'u', 's', 'e', 't', 'h', 'a', 't', 'w', 'a', 's', 'a', 'o', 'n', 'e', '1', '8', 'N', 'i', 'c', 'e', '1', '1', 'T', 'a', 'k', 'e', 'a', 's', 'h', 'o', 't', 'T', 'h', 'i', 's', 't', 'h', 'i', 'n', 'g', \"'\", 's', 's', 'w', 'i', 'n', 'g', 'i', 'n', 'g', 'h', 'a', 'r', 'd', 'H', 'o', 'l', 'y', 's', 'h', 'i', 't', 'T', 'h', 'a', 't', 'i', 's', '1', '6', 'N', 'i', 'c', 'e', 'T', 'h', 'a', 't', 'i', 's', '1', '2', 'p', 'o', 'i', 'n', 't', 's', 'o', 'f', 'd', 'a', 'm', 'a', 'g', 'e', 'S', 'h', 'i', 't', 'I', \"'\", 'l', 'l', 't', 'u', 'r', 'n', 'a', 'n', 'd', 'h', 'e', 'a', 'd', 't', 'o', 'w', 'a', 'r', 'd', 's', 'o', 't', 'h', 'e', 'r', 't', 'r', 'e', 'e', '-', 'z', 'o', 'm', 'b', 'i', 'e', 'f', 'u', 'c', 'k', 'I', 'w', 'o', 'u', 'l', 'd', 'l', 'i', 'k', 'e', 't', 'o', 'u', 's', 'e', 'm', 'y', 'b', 'o', 'n', 'u', 's', 'a', 'c', 't', 'i', 'o', 'n', 't', 'o', 'c', 'a', 's', 't', 'H', 'e', 'x', 'o', 'n', 'i', 't', 'I', 'w', 'o', 'u', 'l', 'd', 'l', 'i', 'k', 'e', 't', 'o', 'u', 's', 'e', 'm', 'y', 'f', 'a', 'l', 'c', 'h', 'i', 'o', 'n', 't', 'o', 'o', 'p', 'e', 'n', 'i', 't', 't', 'h', 'e', 'f', 'u', 'c', 'k', 'u', 'p', '2', '1', 'T', 'h', 'a', 't', \"'\", 's', '1', '2', 'p', 'o', 'i', 'n', 't', 's', 'o', 'f', 'd', 'a', 'm', 'a', 'g', 'e', 'p', 'l', 'u', 's', 'f', 'i', 'v', 'e', 'p', 'o', 'i', 'n', 't', 's', 'o', 'f', 'n', 'e', 'c', 'r', 'o', 't', 'i', 'c', 'd', 'a', 'm', 'a', 'g', 'e', 'I', 's', 'i', 't', 'm', 'a', 'd', 'e', 'o', 'f', 'p', 'i', 'a', 'n', 'o', 'w', 'i', 'r', 'e', 'I', 'n', 't', 'h', 'i', 's', 'm', 'o', 'm', 'e', 'n', 't', 'F', 'i', 'r', 's', 't', 'o', 'n', 'e', 'Y', 'a', 's', 'h', 'a', 'h', 'a', 'v', 'e', 'y', 'o', 'u', 'e', 'v', 'e', 'r', 's', 'e', 'e', 'n', 'a', 'n', 'y', 't', 'h', 'i', 'n', 'g', 'l', 'i', 'k', 'e', 't', 'h', 'i', 's', 'h', 'a', 'p', 'p', 'e', 'n', 'b', 'e', 'f', 'o', 'r', 'e', 'W', 'h', 'a', 't', 'a', 'r', 'e', 't', 'h', 'e', 'c', 'o', 'r', 'p', 's', 'e', 's', 'd', 'o', 'i', 'n', 'g', 'n', 'o', 'w', 't', 'h', 'a', 't', 't', 'h', 'e', 'y', \"'\", 'v', 'e', 'f', 'a', 'l', 'l', 'e', 'n', 'P', 'u', 't', 'y', 'o', 'u', 'r', 'h', 'a', 'n', 'd', 's', 'd', 'o', 'w', 'n', 'Y', 'o', 'u', \"'\", 'r', 'e', 'n', 'o', 't', 'e', 'v', 'e', 'n', 'r', 'e', 'a', 'd', 'y', 'Y', 'o', 'u', 's', 'h', 'o', 'u', 'l', 'd', 'k', 'n', 'o', 'w', 't', 'h', 'a', 't', 'w', 'h', 'a', 't', 'e', 'v', 'e', 'r', 'h', 'a', 'p', 'p', 'e', 'n', 'e', 'd', 't', 'o', 't', 'h', 'a', 't', 'f', 'i', 'r', 's', 't', 'm', 'a', 'n', 'w', 'h', 'e', 'n', 'h', 'e', 'a', 't', 't', 'a', 'c', 'k', 'e', 'd', 't', 'h', 'e', 'w', 'o', 'm', 'a', 'n', 's', 'h', 'e', 'c', 'a', 'u', 'g', 'h', 't', 'w', 'h', 'a', 't', 'e', 'v', 'e', 'r', 'h', 'e', 'h', 'a', 'd', 'T', 'h', 'e', 'y', 'd', 'o', 'n', \"'\", 't', 'h', 'a', 'v', 'e', 'w', 'a', 't', 'c', 'h', 'e', 's', 'y', 'e', 't', 'W', 'e', 'd', 'i', 'd', 'B', 'o', 'Y', 'o', 'u', 'p', 'o', 'i', 'n', 't', 'e', 'd', 'a', 't', 'm', 'e', 'T', 'h', 'e', 'N', 'e', 's', 't', 'l', 'e', 'd', 'N', 'o', 'o', 'k', 'I', 'n', 'n', 'I', 'h', 'a', 'v', 'e', 'a', 'n', 'i', 'n', 't', 'e', 'l', 'l', 'i', 'g', 'e', 'n', 'c', 'e', 'o', 'f', '1', '4', 'I', 'k', 'n', 'o', 'w', 'w', 'h', 'a', 't', 'I', \"'\", 'm', 'd', 'o', 'i', 'n', 'g', 'H', 'o', 'l', 'y', 's', 'h', 'i', 't', 'Y', 'e', 'a', 'h', 't', 'o', 't', 'a', 'l', 'l', 'y', 'n', 'e', 'w', 'd', 'i', 'c', 'e', 'W', 'h', 'a', 't', 'a', 'r', 'e', 'y', 'o', 'u', 't', 'a', 'l', 'k', 'i', 'n', 'g', 'a', 'b', 'o', 'u', 't', 'I', \"'\", 'm', 'a', 'b', 'a', 'l', 'l', 'e', 'r', 'i', 'n', 'a']\n"
    }
   ],
   "source": [
    "def sanitize_words(words):    \n",
    "    '''\n",
    "    Removes words in parenthesis. Removes double quotes, commas, question marks\n",
    "\n",
    "    param {string} words - a list of words to sanitize    \n",
    "    '''\n",
    "    cleaned_words = []\n",
    "\n",
    "    for word in words:\n",
    "        if word.find('(') != -1 or word.find(')') != -1:\n",
    "            continue\n",
    "        word = word.replace(',', '')\n",
    "        word = word.replace('.', '')\n",
    "        word = word.replace('\"', '')\n",
    "        word = word.replace('--', '')\n",
    "        word = word.replace('?', '')\n",
    "        word = word.replace('?', '')\n",
    "        cleaned_words += word\n",
    "    return cleaned_words\n",
    "\n",
    "\n",
    "for actor in words_per_actor:\n",
    "    words = words_per_actor[actor]\n",
    "    \n",
    "    cleaned_words = sanitize_words(words)\n",
    "    words_per_actor[actor] = cleaned_words"
   ]
  },
  {
   "cell_type": "markdown",
   "metadata": {},
   "source": [
    "# Number of words said by each nerdy-ass voice actor"
   ]
  },
  {
   "cell_type": "code",
   "execution_count": 36,
   "metadata": {},
   "outputs": [
    {
     "name": "stdout",
     "output_type": "stream",
     "text": "ASHLEY said 3707 words.\nLAURA said 10879 words.\nLIAM said 7649 words.\nMARISHA said 8107 words.\nMATT said 58923 words.\nSAM said 8793 words.\nTALIESIN said 6090 words.\nTRAVIS said 2605 words.\n"
    }
   ],
   "source": [
    "print(f'ASHLEY said {len(words_per_actor[ASHLEY])} words.')\n",
    "print(f'LAURA said {len(words_per_actor[LAURA])} words.')\n",
    "print(f'LIAM said {len(words_per_actor[LIAM])} words.')\n",
    "print(f'MARISHA said {len(words_per_actor[MARISHA])} words.')\n",
    "print(f'MATT said {len(words_per_actor[MATT])} words.')\n",
    "print(f'SAM said {len(words_per_actor[SAM])} words.')\n",
    "print(f'TALIESIN said {len(words_per_actor[TALIESIN])} words.')\n",
    "print(f'TRAVIS said {len(words_per_actor[TRAVIS])} words.')"
   ]
  },
  {
   "cell_type": "markdown",
   "metadata": {},
   "source": [
    "# Size of vocab by each nerdy-ass voice actor"
   ]
  },
  {
   "cell_type": "code",
   "execution_count": 37,
   "metadata": {},
   "outputs": [
    {
     "name": "stdout",
     "output_type": "stream",
     "text": "ASHLEY's vocabulary consists of 54 words.\nLAURA's vocabulary consists of 62 words.\nLIAM's vocabulary consists of 63 words.\nMARISHA's vocabulary consists of 63 words.\nMATT's vocabulary consists of 74 words.\nSAM's vocabulary consists of 62 words.\nTALIESIN's vocabulary consists of 56 words.\nTRAVIS's vocabulary consists of 53 words.\n"
    }
   ],
   "source": [
    "print(f'ASHLEY\\'s vocabulary consists of {len(set(words_per_actor[ASHLEY]))} words.')\n",
    "print(f'LAURA\\'s vocabulary consists of {len(set(words_per_actor[LAURA]))} words.')\n",
    "print(f'LIAM\\'s vocabulary consists of {len(set(words_per_actor[LIAM]))} words.')\n",
    "print(f'MARISHA\\'s vocabulary consists of {len(set(words_per_actor[MARISHA]))} words.')\n",
    "print(f'MATT\\'s vocabulary consists of {len(set(words_per_actor[MATT]))} words.')\n",
    "print(f'SAM\\'s vocabulary consists of {len(set(words_per_actor[SAM]))} words.')\n",
    "print(f'TALIESIN\\'s vocabulary consists of {len(set(words_per_actor[TALIESIN]))} words.')\n",
    "print(f'TRAVIS\\'s vocabulary consists of {len(set(words_per_actor[TRAVIS]))} words.')"
   ]
  },
  {
   "cell_type": "code",
   "execution_count": 38,
   "metadata": {},
   "outputs": [
    {
     "data": {
      "text/plain": "{'$',\n '%',\n '&',\n \"'\",\n '-',\n '/',\n '0',\n '1',\n '2',\n '3',\n '4',\n '5',\n '6',\n '7',\n '8',\n '9',\n ':',\n '<',\n '>',\n '@',\n 'A',\n 'B',\n 'C',\n 'D',\n 'E',\n 'F',\n 'G',\n 'H',\n 'I',\n 'J',\n 'K',\n 'L',\n 'M',\n 'N',\n 'O',\n 'P',\n 'Q',\n 'R',\n 'S',\n 'T',\n 'U',\n 'V',\n 'W',\n 'X',\n 'Y',\n 'Z',\n '[',\n ']',\n 'a',\n 'b',\n 'c',\n 'd',\n 'e',\n 'f',\n 'g',\n 'h',\n 'i',\n 'j',\n 'k',\n 'l',\n 'm',\n 'n',\n 'o',\n 'p',\n 'q',\n 'r',\n 's',\n 't',\n 'u',\n 'v',\n 'w',\n 'x',\n 'y',\n 'z'}"
     },
     "execution_count": 38,
     "metadata": {},
     "output_type": "execute_result"
    }
   ],
   "source": [
    "set(words_per_actor[MATT])"
   ]
  }
 ]
}